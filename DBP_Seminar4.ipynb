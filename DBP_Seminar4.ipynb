{
 "cells": [
  {
   "cell_type": "code",
   "execution_count": 1,
   "id": "7ae6a8ef",
   "metadata": {},
   "outputs": [],
   "source": [
    "import numpy as np"
   ]
  },
  {
   "cell_type": "code",
   "execution_count": 6,
   "id": "aa2266a2",
   "metadata": {},
   "outputs": [
    {
     "data": {
      "text/plain": [
       "array([ 50,  51,  52,  53,  54,  55,  56,  57,  58,  59,  60,  61,  62,\n",
       "        63,  64,  65,  66,  67,  68,  69,  70,  71,  72,  73,  74,  75,\n",
       "        76,  77,  78,  79,  80,  81,  82,  83,  84,  85,  86,  87,  88,\n",
       "        89,  90,  91,  92,  93,  94,  95,  96,  97,  98,  99, 100])"
      ]
     },
     "execution_count": 6,
     "metadata": {},
     "output_type": "execute_result"
    }
   ],
   "source": [
    "#1\n",
    "n50_100=np.arange(50,101)\n",
    "n50_100"
   ]
  },
  {
   "cell_type": "code",
   "execution_count": 9,
   "id": "83dd3370",
   "metadata": {},
   "outputs": [
    {
     "name": "stdout",
     "output_type": "stream",
     "text": [
      "[1 1 1 1 1 1 1 1 1 1] [0 0 0 0 0 0 0 0 0 0] [6 6 6 6 6 6 6 6 6 6]\n"
     ]
    }
   ],
   "source": [
    "#2\n",
    "t1=np.repeat(1,10)\n",
    "t0=np.repeat(0,10)\n",
    "t6=np.repeat(6,10)\n",
    "print(t1,t0,t6)"
   ]
  },
  {
   "cell_type": "code",
   "execution_count": 14,
   "id": "902e76e3",
   "metadata": {},
   "outputs": [
    {
     "data": {
      "text/plain": [
       "array([[20, 21, 22, 23],\n",
       "       [24, 25, 26, 27],\n",
       "       [28, 29, 30, 31]])"
      ]
     },
     "execution_count": 14,
     "metadata": {},
     "output_type": "execute_result"
    }
   ],
   "source": [
    "#3\n",
    "n20_24=np.arange(20,24)\n",
    "n24_28=np.arange(24,28)\n",
    "n28_32=np.arange(28,32)\n",
    "n20_32=np.vstack([n20_24,n24_28,n28_32])\n",
    "n20_32"
   ]
  },
  {
   "cell_type": "code",
   "execution_count": 15,
   "id": "8910d81b",
   "metadata": {},
   "outputs": [
    {
     "data": {
      "text/plain": [
       "array([[1., 0., 0.],\n",
       "       [0., 1., 0.],\n",
       "       [0., 0., 1.]])"
      ]
     },
     "execution_count": 15,
     "metadata": {},
     "output_type": "execute_result"
    }
   ],
   "source": [
    "#4\n",
    "d1=np.eye(3)\n",
    "d1"
   ]
  },
  {
   "cell_type": "code",
   "execution_count": 16,
   "id": "9cf3f9e9",
   "metadata": {},
   "outputs": [
    {
     "data": {
      "text/plain": [
       "array([[1, 0, 0, 0, 0],\n",
       "       [0, 2, 0, 0, 0],\n",
       "       [0, 0, 3, 0, 0],\n",
       "       [0, 0, 0, 4, 0],\n",
       "       [0, 0, 0, 0, 5]])"
      ]
     },
     "execution_count": 16,
     "metadata": {},
     "output_type": "execute_result"
    }
   ],
   "source": [
    "#5\n",
    "d15=np.diag(np.arange(1,6))\n",
    "d15"
   ]
  },
  {
   "cell_type": "code",
   "execution_count": 25,
   "id": "8085c487",
   "metadata": {},
   "outputs": [
    {
     "name": "stdout",
     "output_type": "stream",
     "text": [
      "[[ 5  8 11 14 17]\n",
      " [ 1  3  5  7  9]\n",
      " [ 7 12 17 22 27]\n",
      " [ 4 17 30 43 56]]\n",
      "315\n",
      "Багана [ 17  40  63  86 109]\n",
      "Мөр [ 55  25  85 150]\n"
     ]
    }
   ],
   "source": [
    "#6\n",
    "b6=np.array([np.arange(5,18,3),np.arange(1,10,2),np.arange(7,28,5),np.arange(4,57,13)])\n",
    "print(b6)\n",
    "print(b6.sum())\n",
    "print(\"Багана\",b6.sum(axis=0))\n",
    "print('Мөр',b6.sum(axis=1))"
   ]
  },
  {
   "cell_type": "code",
   "execution_count": 32,
   "id": "2e43003e",
   "metadata": {},
   "outputs": [
    {
     "name": "stdout",
     "output_type": "stream",
     "text": [
      "[[ 1207943  6310390  6310390  6310390  6310390 13791552 13791552 13791552\n",
      "  15755772 15755772]\n",
      " [21574904 31122902 29904455 40208730 41616246 74325228 74577321 73577321\n",
      "  66846489 66846489]\n",
      " [34526148 30513678 29326744 35366456 36605910 60302591 60302591 60302591\n",
      "  32498507 32498507]\n",
      " [13171825 11585744 17772511 30062013 45481662 45481662 45481662 59199687\n",
      "  59199687 59199687]\n",
      " [ 4000000 15775974  9001798 10692817 13833568 13970118 13865079 13865079\n",
      "  13865079  8077459]\n",
      " [ 8455598  8035444  7730832 14894456 15409145 19579173 22982419 22982419\n",
      "  22982419 22982419]\n",
      " [ 3155519  3155519  3155519  6310390  6310390 12620780 12620780 12620780\n",
      "  12620780 12620780]\n",
      " [ 4936809  4338089  9465585  9465585 11043182 22086364 22086364 25241559\n",
      "  25241559 25241559]\n",
      " [10419817 14348256 13791552 16627591 17215807 17373365 19032973 19043476\n",
      "  25209235 25209235]\n",
      " [ 4936809  7804359  7499747 15031006 16596080 16753638 24158850 24158850\n",
      "  24158850 21879515]] [[37 32 23 36 35 27 34 38 36 31]\n",
      " [31 38 33 34 36 34 33 35 26 32]\n",
      " [30 35 36 29 27 31 33 33 31 26]\n",
      " [26 33 34 30 20 17 15 18 22 20]\n",
      " [34 27 29 29 30 30 26 27 26 26]\n",
      " [34 16 32 25 26 34 31 35 28 33]\n",
      " [10 34 38 30 37 28 29 35 37 38]\n",
      " [19 34 27 36 37 19 35 25 30 32]\n",
      " [35 29 27 29 32 36 37 34 32 24]\n",
      " [33 31 32 33 30 33 31 29 34 34]] [[24 30 29 28 34 36 20 28 29 29]\n",
      " [28 43 26 37 34 36 25 30  6 16]\n",
      " [31 48 35 25 26 21 31 29 18 15]\n",
      " [ 9 22 24 13 19 15 13  9 13 13]\n",
      " [ 4  3 10  6 11 12  8  4  5  4]\n",
      " [ 1  1  2  1  1  3  3  5  2  4]\n",
      " [ 3 21 25 29 30 17 18 23 17 30]\n",
      " [ 3 10  7  6  8  2 13  6 15  7]\n",
      " [17 15 24 11  5 21 21 23 27 19]\n",
      " [20 17 30 30 29 22 34 41 35 23]]\n"
     ]
    }
   ],
   "source": [
    "#7 Хөл бөмбөг\n",
    "#Messi, Ronaldo, Neymar, Di Maria, Modric, Harry Kane, De Bruyne, Benzema, Lewandowski, Courtois\n",
    "#Players\n",
    "PDic={\"ThibautCourtois\":0,\"LionelMessi\":1,\"CristianoRonaldo\":2,\"NeymarJr\":3,\"AngelDiMaria\":4,\"LukaModric\":5,\"HarryKane\":6,\"KevinDeBruyne\":7,\"KarimBenzema\":8,\"RobertLewandowski\":9}\n",
    "#Seasons\n",
    "SDic={\"2013-2014\":0,\"2014-2015\":1,\"2015-2016\":2,\"2016-2017\":3,\"2017-2018\":4,\"2018-2019\":5,\"2019-2020\":6,\"2020-2021\":7,\"2021-2022\":8,\"2022-2023\":9}\n",
    "#Salaries Source:Capology\n",
    "\n",
    "Sal_T_Courtois=[1207943,6310390,6310390,6310390,6310390,13791552,13791552,13791552,15755772,15755772]\n",
    "Sal_L_Messi=[21574904,31122902,29904455,40208730,41616246,74325228,74577321,73577321,66846489,66846489]\n",
    "Sal_C_Ronaldo=[34526148,30513678,29326744,35366456,36605910,60302591,60302591,60302591,32498507,32498507]\n",
    "Sal_Neymar=[13171825,11585744,17772511,30062013,45481662,45481662,45481662,59199687,59199687,59199687]\n",
    "Sal_A_Maria=[4000000,15775974,9001798,10692817,13833568,13970118,13865079,13865079,13865079,8077459]\n",
    "Sal_L_Modric=[8455598,8035444,7730832,14894456,15409145,19579173,22982419,22982419,22982419,22982419]\n",
    "Sal_H_Kane=[3155519,3155519,3155519,6310390,6310390,12620780,12620780,12620780,12620780,12620780]\n",
    "Sal_K_Bruyne=[4936809,4338089,9465585,9465585,11043182,22086364,22086364,25241559,25241559,25241559]\n",
    "Sal_K_Benzema=[10419817,14348256,13791552,16627591,17215807,17373365,19032973,19043476,25209235,25209235]\n",
    "Sal_R_Lewandowski=[4936809,7804359,7499747,15031006,16596080,16753638,24158850,24158850,24158850,21879515]\n",
    "Salary=np.array([Sal_T_Courtois,Sal_L_Messi,Sal_C_Ronaldo,Sal_Neymar,Sal_A_Maria,Sal_L_Modric,Sal_H_Kane,Sal_K_Bruyne,Sal_K_Benzema,Sal_R_Lewandowski])\n",
    "\n",
    "#Games Domestic League\n",
    "\n",
    "G_T_Courtois=[37,32,23,36,35,27,34,38,36,31]\n",
    "G_L_Messi=[31,38,33,34,36,34,33,35,26,32]\n",
    "G_C_Ronaldo=[30,35,36,29,27,31,33,33,31,26]\n",
    "G_Neymar=[26,33,34,30,20,17,15,18,22,20]\n",
    "G_A_Maria=[34,27,29,29,30,30,26,27,26,26]\n",
    "G_L_Modric=[34,16,32,25,26,34,31,35,28,33]\n",
    "G_H_Kane=[10,34,38,30,37,28,29,35,37,38]\n",
    "G_K_Bruyne=[19,34,27,36,37,19,35,25,30,32]\n",
    "G_K_Benzema=[35,29,27,29,32,36,37,34,32,24]\n",
    "G_R_Lewandowski=[33,31,32,33,30,33,31,29,34,34]\n",
    "GamesDL=np.array([G_T_Courtois,G_L_Messi,G_C_Ronaldo,G_Neymar,G_A_Maria,G_L_Modric,G_H_Kane,G_K_Bruyne,G_K_Benzema,G_R_Lewandowski])\n",
    "\n",
    "#Goals Domestic League\n",
    "Gl_T_Courtois=[24,30,29,28,34,36,20,28,29,29]\n",
    "Gl_L_Messi=[28,43,26,37,34,36,25,30,6,16]\n",
    "Gl_C_Ronaldo=[31,48,35,25,26,21,31,29,18,15]\n",
    "Gl_Neymar=[9,22,24,13,19,15,13,9,13,13]\n",
    "Gl_A_Maria=[4,3,10,6,11,12,8,4,5,4]\n",
    "Gl_L_Modric=[1,1,2,1,1,3,3,5,2,4]\n",
    "Gl_H_Kane=[3,21,25,29,30,17,18,23,17,30]\n",
    "Gl_K_Bruyne=[3,10,7,6,8,2,13,6,15,7]\n",
    "Gl_K_Benzema=[17,15,24,11,5,21,21,23,27,19]\n",
    "Gl_R_Lewandowski=[20,17,30,30,29,22,34,41,35,23]\n",
    "GoalsDL=np.array([Gl_T_Courtois,Gl_L_Messi,Gl_C_Ronaldo,Gl_Neymar,Gl_A_Maria,Gl_L_Modric,Gl_H_Kane,Gl_K_Bruyne,Gl_K_Benzema,Gl_R_Lewandowski])\n",
    "print(Salary,GamesDL,GoalsDL)"
   ]
  },
  {
   "cell_type": "code",
   "execution_count": 34,
   "id": "8dde43f2",
   "metadata": {},
   "outputs": [
    {
     "name": "stdout",
     "output_type": "stream",
     "text": [
      "Улирлаар\n",
      "Salary [106385372 132990355 133959133 184969434 210422380 296284471 308899591\n",
      " 324783314 298378377 290311422]\n",
      "Games:Domestic League [289 309 311 311 310 289 304 309 302 296]\n",
      "Goals:Domestic League [140 210 212 186 197 185 186 198 167 160]\n",
      "Тоглогчоор\n",
      "Salary [ 99335703 520600085 412243723 386636140 116946971 166034324  85191237\n",
      " 159146655 178271307 162977704]\n",
      "Games:Domestic League [329 332 311 235 284 294 316 294 315 320]\n",
      "Goals:Domestic League [287 281 279 150  67  23 213  77 183 281]\n"
     ]
    }
   ],
   "source": [
    "print('Улирлаар')\n",
    "print('Salary',Salary.sum(axis=0))\n",
    "print('Games:Domestic League',GamesDL.sum(axis=0))\n",
    "print('Goals:Domestic League',GoalsDL.sum(axis=0))\n",
    "print('Тоглогчоор')\n",
    "print('Salary',Salary.sum(axis=1))\n",
    "print('Games:Domestic League',GamesDL.sum(axis=1))\n",
    "print('Goals:Domestic League',GoalsDL.sum(axis=1))"
   ]
  },
  {
   "cell_type": "code",
   "execution_count": 38,
   "id": "81829b26",
   "metadata": {},
   "outputs": [
    {
     "data": {
      "text/plain": [
       "43"
      ]
     },
     "execution_count": 38,
     "metadata": {},
     "output_type": "execute_result"
    }
   ],
   "source": [
    "GoalsDL[PDic[\"LionelMessi\"],SDic['2014-2015']]"
   ]
  },
  {
   "cell_type": "code",
   "execution_count": null,
   "id": "cc4f80d3",
   "metadata": {},
   "outputs": [],
   "source": []
  }
 ],
 "metadata": {
  "kernelspec": {
   "display_name": "Python 3 (ipykernel)",
   "language": "python",
   "name": "python3"
  },
  "language_info": {
   "codemirror_mode": {
    "name": "ipython",
    "version": 3
   },
   "file_extension": ".py",
   "mimetype": "text/x-python",
   "name": "python",
   "nbconvert_exporter": "python",
   "pygments_lexer": "ipython3",
   "version": "3.9.12"
  }
 },
 "nbformat": 4,
 "nbformat_minor": 5
}
